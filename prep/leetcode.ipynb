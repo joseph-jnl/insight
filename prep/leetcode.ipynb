{
 "cells": [
  {
   "cell_type": "code",
   "execution_count": 76,
   "metadata": {
    "collapsed": false
   },
   "outputs": [],
   "source": [
    "def lengthOfLongestSubstring(s):\n",
    "    \"\"\"\n",
    "    :type s: str\n",
    "    :rtype: int\n",
    "    \"\"\"\n",
    "    temp = s[0]\n",
    "    mylist = []\n",
    "    idx = 0\n",
    "\n",
    "    for i,c in enumerate(s):\n",
    "        if c not in mylist:\n",
    "            mylist.append(c)\n",
    "        else:\n",
    "            if len(temp) < len(s[idx:i]):\n",
    "                temp = s[idx:i]\n",
    "                \n",
    "                mylist = []\n",
    "                mylist.append(c)\n",
    "            idx = i\n",
    "    print(temp)\n",
    "    print(mylist)\n",
    "    \n",
    "    if len(temp)==1:\n",
    "        temp = mylist\n",
    "    return len(temp)\n",
    "                \n",
    "        "
   ]
  },
  {
   "cell_type": "code",
   "execution_count": 100,
   "metadata": {
    "collapsed": false
   },
   "outputs": [
    {
     "data": {
      "text/plain": [
       "3"
      ]
     },
     "execution_count": 100,
     "metadata": {},
     "output_type": "execute_result"
    }
   ],
   "source": [
    "lengthOfLongestSubstring(\"dvdfj\")"
   ]
  },
  {
   "cell_type": "code",
   "execution_count": 58,
   "metadata": {
    "collapsed": true
   },
   "outputs": [],
   "source": [
    "s = \"bbb\""
   ]
  },
  {
   "cell_type": "code",
   "execution_count": 45,
   "metadata": {
    "collapsed": false
   },
   "outputs": [
    {
     "data": {
      "text/plain": [
       "''"
      ]
     },
     "execution_count": 45,
     "metadata": {},
     "output_type": "execute_result"
    }
   ],
   "source": [
    "s[2:2]"
   ]
  },
  {
   "cell_type": "code",
   "execution_count": 82,
   "metadata": {
    "collapsed": false
   },
   "outputs": [
    {
     "data": {
      "text/plain": [
       "2"
      ]
     },
     "execution_count": 82,
     "metadata": {},
     "output_type": "execute_result"
    }
   ],
   "source": [
    "max(2,1)"
   ]
  },
  {
   "cell_type": "code",
   "execution_count": 88,
   "metadata": {
    "collapsed": true
   },
   "outputs": [],
   "source": [
    "def lengthOfLongestSubstring(s):\n",
    "    \"\"\"\n",
    "    :type s: str\n",
    "    :rtype: int\n",
    "    \"\"\"\n",
    "    mylist = []\n",
    "    current = 0\n",
    "    cmax = 0\n",
    "    \n",
    "    for i,c in enumerate(s):\n",
    "        if c not in mylist:\n",
    "            mylist.append(c)\n",
    "            current +=1\n",
    "        else:\n",
    "            if cmax < current:\n",
    "                cmax=current\n",
    "                \n",
    "                mylist = list(c)\n",
    "                current = 1\n",
    "\n",
    "    return max(current,cmax)\n",
    "                \n",
    "        "
   ]
  },
  {
   "cell_type": "code",
   "execution_count": 99,
   "metadata": {
    "collapsed": false
   },
   "outputs": [
    {
     "data": {
      "text/plain": [
       "2"
      ]
     },
     "execution_count": 99,
     "metadata": {},
     "output_type": "execute_result"
    }
   ],
   "source": [
    "lengthOfLongestSubstring(\"dvdf\")"
   ]
  },
  {
   "cell_type": "code",
   "execution_count": 18,
   "metadata": {
    "collapsed": true
   },
   "outputs": [],
   "source": [
    "def romanToInt(s):\n",
    "    \"\"\"\n",
    "    :type s: str\n",
    "    :rtype: int\n",
    "    \"\"\"\n",
    "    special = {'IV':4, 'IX':9, 'XL':40, 'XC':90, 'CD':400, 'CM':900}\n",
    "    rn = {'I':1, 'V':5, 'X':10, 'L':50, 'C':100, 'D':500, 'M':1000}\n",
    "    count = 0\n",
    "    \n",
    "    for i, c in enumerate(s):\n",
    "        if s[i:i+2] in special:\n",
    "            count += special[s[i:i+2]]\n",
    "        elif s[i-1:i+1] in special:\n",
    "            pass\n",
    "        else: \n",
    "            count += rn[c]\n",
    "    return count\n",
    "            "
   ]
  },
  {
   "cell_type": "code",
   "execution_count": 25,
   "metadata": {
    "collapsed": false
   },
   "outputs": [
    {
     "data": {
      "text/plain": [
       "95"
      ]
     },
     "execution_count": 25,
     "metadata": {},
     "output_type": "execute_result"
    }
   ],
   "source": [
    "romanToInt('XCV')"
   ]
  },
  {
   "cell_type": "code",
   "execution_count": 15,
   "metadata": {
    "collapsed": false
   },
   "outputs": [
    {
     "data": {
      "text/plain": [
       "'XC'"
      ]
     },
     "execution_count": 15,
     "metadata": {},
     "output_type": "execute_result"
    }
   ],
   "source": [
    "s = 'IXC'\n",
    "s[1:2+1]"
   ]
  },
  {
   "cell_type": "code",
   "execution_count": 27,
   "metadata": {
    "collapsed": true
   },
   "outputs": [],
   "source": [
    "# Definition for singly-linked list.\n",
    "class ListNode(object):\n",
    "    def __init__(self, x):\n",
    "        self.val = x\n",
    "        self.next = None\n",
    "\n",
    "def deleteNode(self, node):\n",
    "    \"\"\"\n",
    "    :type node: ListNode\n",
    "    :rtype: void Do not return anything, modify node in-place instead.\n",
    "    \"\"\"\n",
    "\n",
    "        "
   ]
  },
  {
   "cell_type": "code",
   "execution_count": 35,
   "metadata": {
    "collapsed": false
   },
   "outputs": [],
   "source": [
    "d = ListNode(4)\n",
    "c = ListNode(3)\n",
    "b = ListNode(2)\n",
    "a = ListNode(1)\n",
    "\n",
    "a.next = b\n",
    "b.next = c\n",
    "c.next = d"
   ]
  },
  {
   "cell_type": "code",
   "execution_count": 37,
   "metadata": {
    "collapsed": false
   },
   "outputs": [
    {
     "ename": "TypeError",
     "evalue": "deleteNode() missing 1 required positional argument: 'node'",
     "output_type": "error",
     "traceback": [
      "\u001b[0;31m---------------------------------------------------------------------------\u001b[0m",
      "\u001b[0;31mTypeError\u001b[0m                                 Traceback (most recent call last)",
      "\u001b[0;32m<ipython-input-37-7e128401cbda>\u001b[0m in \u001b[0;36m<module>\u001b[0;34m()\u001b[0m\n\u001b[0;32m----> 1\u001b[0;31m \u001b[0mdeleteNode\u001b[0m\u001b[0;34m(\u001b[0m\u001b[0;36m1\u001b[0m\u001b[0;34m)\u001b[0m\u001b[0;34m\u001b[0m\u001b[0m\n\u001b[0m",
      "\u001b[0;31mTypeError\u001b[0m: deleteNode() missing 1 required positional argument: 'node'"
     ]
    }
   ],
   "source": [
    "deleteNode(1)"
   ]
  },
  {
   "cell_type": "code",
   "execution_count": 38,
   "metadata": {
    "collapsed": true
   },
   "outputs": [],
   "source": [
    "# Definition for a binary tree node.\n",
    "class TreeNode(object):\n",
    "    def __init__(self, x):\n",
    "        self.val = x\n",
    "        self.left = None\n",
    "        self.right = None\n",
    "\n",
    "def maxDepth(self, root):\n",
    "    \"\"\"\n",
    "    :type root: TreeNode\n",
    "    :rtype: int\n",
    "    \"\"\"\n",
    "    level = []\n",
    "    for \n",
    "        "
   ]
  },
  {
   "cell_type": "code",
   "execution_count": 3,
   "metadata": {
    "collapsed": false
   },
   "outputs": [],
   "source": [
    "import pytest\n",
    "\n",
    "def convert(self, s, numRows):\n",
    "    \"\"\"\n",
    "    :type s: str\n",
    "    :type numRows: int\n",
    "    :rtype: str\n",
    "\n",
    "\n",
    "    4:\n",
    "    P     I    N\n",
    "    A   L S  I G\n",
    "    Y A   H R\n",
    "    P     I\n",
    "\n",
    "    0 6 12\n",
    "    1 5 7 11 13\n",
    "    2 4 8 10\n",
    "    3 9\n",
    "\n",
    "    PINALSIGYAHRPI\n",
    "\n",
    "    5:        \n",
    "    P       H I\n",
    "    A     S   R\n",
    "    Y   I     I\n",
    "    P L       N\n",
    "    A         G\n",
    "\n",
    "    0 8\n",
    "    1 7 10\n",
    "    2 6 11\n",
    "    3 5 12\n",
    "    4 13\n",
    "\n",
    "    Construct string array, size(numRows, ceil(len(s) / numRows))\n",
    "\n",
    "    Fill in array by column\n",
    "        first column = numrows characters\n",
    "            then (numrows-2) columns have spaces + 1 character\n",
    "                character in row numrow-1-i\n",
    "        then column = numrows characters\n",
    "        repeat until end\n",
    "    \"\"\"\n",
    "\n",
    "    return 'test'\n",
    "\n",
    "def test_c1():\n",
    "    '''\n",
    "    PAYPALISHIRING 14\n",
    "\n",
    "    3:\n",
    "    P   A   H   N\n",
    "    A P L S I I G\n",
    "    Y   I   R\n",
    "    0 4 8 12 \n",
    "    1 3 5 7 9 11 13\n",
    "    2 6 10\n",
    "    PAHNAPLSIIGYIR\n",
    "    '''\n",
    "    \n",
    "    s = 'PAYPALISHIRING'\n",
    "    n = 3\n",
    "    assert convert(s, n) == 'PAHNAPLSIIGYIR'"
   ]
  },
  {
   "cell_type": "code",
   "execution_count": 5,
   "metadata": {
    "collapsed": false
   },
   "outputs": [
    {
     "name": "stdout",
     "output_type": "stream",
     "text": [
      "\u001b[1m============================= test session starts ==============================\u001b[0m\r\n",
      "platform linux -- Python 3.5.2, pytest-3.0.6, py-1.4.32, pluggy-0.4.0\r\n",
      "rootdir: /home/jovyan/work/insight/code/prep, inifile: \r\n",
      "\r\n",
      "\u001b[33m\u001b[1m========================= no tests ran in 0.00 seconds =========================\u001b[0m\r\n",
      "ERROR: file not found: prep.py\r\n"
     ]
    }
   ],
   "source": [
    "!pytest prep.py"
   ]
  },
  {
   "cell_type": "code",
   "execution_count": null,
   "metadata": {
    "collapsed": true
   },
   "outputs": [],
   "source": []
  }
 ],
 "metadata": {
  "kernelspec": {
   "display_name": "Python 3",
   "language": "python",
   "name": "python3"
  },
  "language_info": {
   "codemirror_mode": {
    "name": "ipython",
    "version": 3
   },
   "file_extension": ".py",
   "mimetype": "text/x-python",
   "name": "python",
   "nbconvert_exporter": "python",
   "pygments_lexer": "ipython3",
   "version": "3.5.2"
  }
 },
 "nbformat": 4,
 "nbformat_minor": 2
}
