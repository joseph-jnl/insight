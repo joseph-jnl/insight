{
 "cells": [
  {
   "cell_type": "code",
   "execution_count": 1,
   "metadata": {
    "collapsed": false
   },
   "outputs": [],
   "source": [
    "from bs4 import BeautifulSoup\n",
    "import urllib.request\n",
    "import re\n",
    "\n",
    "url=\"http://www.leagueofgraphs.com/champions/stats/diamond\"\n",
    "page = urllib.request.urlopen(url)\n",
    "soup = BeautifulSoup(page.read(), \"lxml\")\n",
    "\n"
   ]
  },
  {
   "cell_type": "code",
   "execution_count": 2,
   "metadata": {
    "collapsed": false
   },
   "outputs": [],
   "source": [
    "for tr in soup.find_all('tr')[1:145]:\n",
    "    tds = tr.find_all('td')\n",
    "    \n",
    "    if len(tds) >1:\n",
    "        name = tds[1].text.split()\n",
    "    \n",
    "        champ_name = name[0].lower().replace(\"'\", '').replace(\",\", '').replace(\".\", '')\n",
    "        if champ_name == 'lee':\n",
    "            champ_name = 'leesin'\n",
    "        elif champ_name == 'miss':\n",
    "            champ_name = 'missfortune'\n",
    "        elif champ_name == 'twisted':\n",
    "            champ_name = 'twistedfate'\n",
    "        elif champ_name == 'master':\n",
    "            champ_name = 'masteryi'\n",
    "        elif champ_name == 'xin':\n",
    "            champ_name = 'xinzhao'\n",
    "        elif champ_name == 'dr':\n",
    "            champ_name = 'drmundo'\n",
    "        elif champ_name == 'tahm':\n",
    "            champ_name = 'tahmkench'\n",
    "        elif champ_name == 'aurelion':\n",
    "            champ_name = 'aurelionsol'              \n",
    "        elif champ_name == 'jarvan':\n",
    "            champ_name = 'jarvaniv' \n",
    "            \n",
    "        pop = float(tds[2].text.split()[0][0:-1])\n",
    "        winrate = tds[3].text.split()[0][0:-1]\n",
    "        banrate = tds[4].text.split()[0][0:-1]\n",
    "        \n",
    "#         print(champ_name, str(pop), str(winrate), str(banrate))\n",
    "        \n",
    "        with open('lolcurrent_raw.csv', 'a') as f:\n",
    "            s = champ_name + ',' + str(pop) + ',' +  str(winrate) + ',' + \\\n",
    "                str(banrate) + '\\n'\n",
    "            f.write(s)"
   ]
  },
  {
   "cell_type": "code",
   "execution_count": 8,
   "metadata": {
    "collapsed": false
   },
   "outputs": [],
   "source": [
    "import pandas as pd\n",
    "from datetime import datetime\n",
    "import time\n",
    "\n",
    "df = pd.read_csv('lolcurrent_raw.csv', names = ['name', 'popularity', 'winrate',\n",
    "                                           'banrate'])\n",
    "df_release = pd.read_csv('lolrelease.csv', names=['name', 'release'])"
   ]
  },
  {
   "cell_type": "code",
   "execution_count": 9,
   "metadata": {
    "collapsed": false
   },
   "outputs": [],
   "source": [
    "df = df.merge(df_release, how='outer', on='name')"
   ]
  },
  {
   "cell_type": "code",
   "execution_count": 10,
   "metadata": {
    "collapsed": false
   },
   "outputs": [],
   "source": [
    "df.dropna(inplace=True, axis=0)"
   ]
  },
  {
   "cell_type": "code",
   "execution_count": 11,
   "metadata": {
    "collapsed": false
   },
   "outputs": [
    {
     "data": {
      "text/html": [
       "<div>\n",
       "<table border=\"1\" class=\"dataframe\">\n",
       "  <thead>\n",
       "    <tr style=\"text-align: right;\">\n",
       "      <th></th>\n",
       "      <th>name</th>\n",
       "      <th>popularity</th>\n",
       "      <th>winrate</th>\n",
       "      <th>banrate</th>\n",
       "      <th>release</th>\n",
       "    </tr>\n",
       "  </thead>\n",
       "  <tbody>\n",
       "    <tr>\n",
       "      <th>0</th>\n",
       "      <td>leesin</td>\n",
       "      <td>34.6</td>\n",
       "      <td>49.1</td>\n",
       "      <td>10.7</td>\n",
       "      <td>1.270080e+09</td>\n",
       "    </tr>\n",
       "    <tr>\n",
       "      <th>1</th>\n",
       "      <td>leesin</td>\n",
       "      <td>33.9</td>\n",
       "      <td>49.3</td>\n",
       "      <td>10.0</td>\n",
       "      <td>1.270080e+09</td>\n",
       "    </tr>\n",
       "    <tr>\n",
       "      <th>2</th>\n",
       "      <td>ezreal</td>\n",
       "      <td>32.9</td>\n",
       "      <td>48.8</td>\n",
       "      <td>0.2</td>\n",
       "      <td>1.267402e+09</td>\n",
       "    </tr>\n",
       "    <tr>\n",
       "      <th>3</th>\n",
       "      <td>ezreal</td>\n",
       "      <td>32.8</td>\n",
       "      <td>48.9</td>\n",
       "      <td>0.2</td>\n",
       "      <td>1.267402e+09</td>\n",
       "    </tr>\n",
       "    <tr>\n",
       "      <th>4</th>\n",
       "      <td>jhin</td>\n",
       "      <td>31.3</td>\n",
       "      <td>50.4</td>\n",
       "      <td>0.5</td>\n",
       "      <td>1.451606e+09</td>\n",
       "    </tr>\n",
       "  </tbody>\n",
       "</table>\n",
       "</div>"
      ],
      "text/plain": [
       "     name  popularity  winrate  banrate       release\n",
       "0  leesin        34.6     49.1     10.7  1.270080e+09\n",
       "1  leesin        33.9     49.3     10.0  1.270080e+09\n",
       "2  ezreal        32.9     48.8      0.2  1.267402e+09\n",
       "3  ezreal        32.8     48.9      0.2  1.267402e+09\n",
       "4    jhin        31.3     50.4      0.5  1.451606e+09"
      ]
     },
     "execution_count": 11,
     "metadata": {},
     "output_type": "execute_result"
    }
   ],
   "source": [
    "df.head()"
   ]
  },
  {
   "cell_type": "code",
   "execution_count": 12,
   "metadata": {
    "collapsed": false
   },
   "outputs": [],
   "source": [
    "\n",
    "date = datetime.now()\n",
    "date = time.mktime(date.timetuple())\n",
    "\n",
    "df['tsr'] = df.apply(lambda x: date-x.release, axis=1)"
   ]
  },
  {
   "cell_type": "code",
   "execution_count": 13,
   "metadata": {
    "collapsed": false
   },
   "outputs": [
    {
     "data": {
      "text/html": [
       "<div>\n",
       "<table border=\"1\" class=\"dataframe\">\n",
       "  <thead>\n",
       "    <tr style=\"text-align: right;\">\n",
       "      <th></th>\n",
       "      <th>name</th>\n",
       "      <th>popularity</th>\n",
       "      <th>winrate</th>\n",
       "      <th>banrate</th>\n",
       "      <th>release</th>\n",
       "      <th>tsr</th>\n",
       "    </tr>\n",
       "  </thead>\n",
       "  <tbody>\n",
       "    <tr>\n",
       "      <th>0</th>\n",
       "      <td>leesin</td>\n",
       "      <td>34.6</td>\n",
       "      <td>49.1</td>\n",
       "      <td>10.7</td>\n",
       "      <td>1.270080e+09</td>\n",
       "      <td>215457465.0</td>\n",
       "    </tr>\n",
       "    <tr>\n",
       "      <th>1</th>\n",
       "      <td>leesin</td>\n",
       "      <td>33.9</td>\n",
       "      <td>49.3</td>\n",
       "      <td>10.0</td>\n",
       "      <td>1.270080e+09</td>\n",
       "      <td>215457465.0</td>\n",
       "    </tr>\n",
       "    <tr>\n",
       "      <th>2</th>\n",
       "      <td>ezreal</td>\n",
       "      <td>32.9</td>\n",
       "      <td>48.8</td>\n",
       "      <td>0.2</td>\n",
       "      <td>1.267402e+09</td>\n",
       "      <td>218135865.0</td>\n",
       "    </tr>\n",
       "    <tr>\n",
       "      <th>3</th>\n",
       "      <td>ezreal</td>\n",
       "      <td>32.8</td>\n",
       "      <td>48.9</td>\n",
       "      <td>0.2</td>\n",
       "      <td>1.267402e+09</td>\n",
       "      <td>218135865.0</td>\n",
       "    </tr>\n",
       "    <tr>\n",
       "      <th>4</th>\n",
       "      <td>jhin</td>\n",
       "      <td>31.3</td>\n",
       "      <td>50.4</td>\n",
       "      <td>0.5</td>\n",
       "      <td>1.451606e+09</td>\n",
       "      <td>33931065.0</td>\n",
       "    </tr>\n",
       "  </tbody>\n",
       "</table>\n",
       "</div>"
      ],
      "text/plain": [
       "     name  popularity  winrate  banrate       release          tsr\n",
       "0  leesin        34.6     49.1     10.7  1.270080e+09  215457465.0\n",
       "1  leesin        33.9     49.3     10.0  1.270080e+09  215457465.0\n",
       "2  ezreal        32.9     48.8      0.2  1.267402e+09  218135865.0\n",
       "3  ezreal        32.8     48.9      0.2  1.267402e+09  218135865.0\n",
       "4    jhin        31.3     50.4      0.5  1.451606e+09   33931065.0"
      ]
     },
     "execution_count": 13,
     "metadata": {},
     "output_type": "execute_result"
    }
   ],
   "source": [
    "df.head()"
   ]
  },
  {
   "cell_type": "code",
   "execution_count": 231,
   "metadata": {
    "collapsed": true
   },
   "outputs": [],
   "source": [
    "df.to_csv('lolcurrent.csv', index=False)"
   ]
  },
  {
   "cell_type": "code",
   "execution_count": null,
   "metadata": {
    "collapsed": true
   },
   "outputs": [],
   "source": [
    "sudo docker run --rm -d --name flask1 -p 80:80 joe/flaskimage:version002"
   ]
  },
  {
   "cell_type": "code",
   "execution_count": null,
   "metadata": {
    "collapsed": true
   },
   "outputs": [],
   "source": [
    "sudo docker stop flask1\n",
    "sudo docker build -t joe/flaskimage:version002 ."
   ]
  }
 ],
 "metadata": {
  "kernelspec": {
   "display_name": "Python 3",
   "language": "python",
   "name": "python3"
  },
  "language_info": {
   "codemirror_mode": {
    "name": "ipython",
    "version": 3
   },
   "file_extension": ".py",
   "mimetype": "text/x-python",
   "name": "python",
   "nbconvert_exporter": "python",
   "pygments_lexer": "ipython3",
   "version": "3.5.2"
  }
 },
 "nbformat": 4,
 "nbformat_minor": 2
}
