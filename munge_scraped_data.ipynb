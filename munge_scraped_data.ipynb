{
 "cells": [
  {
   "cell_type": "code",
   "execution_count": 1,
   "metadata": {
    "collapsed": false
   },
   "outputs": [],
   "source": [
    "import re\n",
    "import ast\n",
    "import pandas as pd\n",
    "import numpy as np\n",
    "import time\n",
    "from datetime import datetime\n",
    "\n",
    "gameplay = pd.DataFrame()\n",
    "\n",
    "clean = open('diamond_raw.txt').read().replace('\\n', '')\n",
    "champs = clean.split(\"|\")\n",
    "\n",
    "#Parse gameplay data \n",
    "for champ in champs[0:-1]:\n",
    "    \n",
    "    df = pd.DataFrame()\n",
    "    df1 = pd.DataFrame()\n",
    "    df2 = pd.DataFrame()\n",
    "    df3 = pd.DataFrame()\n",
    "    \n",
    "    temp_champ = champ\n",
    "    graphs = re.findall ( 'data:(.*?)lines:', temp_champ, re.MULTILINE)\n",
    "\n",
    "    name = temp_champ.split('^')[0]\n",
    "    #print(name)\n",
    "    dt = datetime.strptime(temp_champ.split('^')[4], \n",
    "                                        '                %b %Y            ')\n",
    "    release = time.mktime(dt.timetuple())\n",
    "\n",
    "    s = graphs[0]\n",
    "    data_pop = ast.literal_eval(s[1:-25])\n",
    "\n",
    "    data = np.array(data_pop)\n",
    "    df1['date'] = data[:,0]/1000\n",
    "    df1['popularity'] = data[:,1]\n",
    "\n",
    "    s = graphs[1]\n",
    "    data_wr = ast.literal_eval(s[1:-25])\n",
    "    data2 = np.array(data_wr)\n",
    "    df2['date'] = data2[:,0]/1000\n",
    "    df2['winrate'] = data2[:,1]\n",
    "\n",
    "    s = graphs[2]\n",
    "    data_br = ast.literal_eval(s[1:-25])\n",
    "    data3 = np.array(data_br)\n",
    "    df3['date'] = data3[:,0]/1000\n",
    "    df3['banrate'] = data3[:,1]\n",
    "\n",
    "    df = pd.merge(pd.merge(df1, df2, on='date'), df3, on='date', how='outer')\n",
    "    df['name'] = name\n",
    "    df['release'] = release\n",
    "    gameplay = pd.concat([gameplay, df], axis=0)\n",
    "    \n",
    "gameplay.sort_values('date', inplace=True)\n",
    "gameplay.reset_index(drop=True, inplace = True)\n",
    "# gameplay.head()"
   ]
  },
  {
   "cell_type": "code",
   "execution_count": 2,
   "metadata": {
    "collapsed": false
   },
   "outputs": [],
   "source": [
    "# Parse patch data\n",
    "\n",
    "dfp = pd.read_csv('patchnotes.txt', sep='|', names=['patch', 'date', 'buffs', 'nerfs'])\n",
    "dfp.fillna(' ', inplace=True)\n",
    "dfp = dfp[dfp['buffs'].str.contains('buffs')]\n",
    "dfp['buffs'] = dfp['buffs'].str.replace('buffs:', '')\n",
    "dfp['buffs'] = dfp['buffs'].str.replace('[:;.]+', '')\n",
    "dfp['nerfs'] = dfp['nerfs'].str.replace('nerfs:', '')\n",
    "dfp['nerfs'] = dfp['nerfs'].str.replace('[:.;]+', '')\n",
    "dfp.sort_values('date', inplace=True)\n",
    "dfp.reset_index(drop=True, inplace = True)\n",
    "# dfp.head()\n",
    "\n",
    "changes = pd.DataFrame(np.nan, index=range(0,len(gameplay)), columns=['changes'])\n",
    "\n",
    "for index, row in dfp.iterrows():\n",
    "    if index != 0:\n",
    "#         print(dfp['date'].iloc[index-1])\n",
    "#         print(row['date'])\n",
    "        for champ in dfp.iloc[index]['buffs'].split(','):\n",
    "            idx = gameplay[(gameplay['date'] < row['date']) & \n",
    "                     (gameplay['date'] >= dfp['date'].iloc[index-1]) &\n",
    "                    (gameplay['name']==champ)].index.tolist()\n",
    "            changes.loc[idx] = 'buff'\n",
    "        for champ in dfp.iloc[index]['nerfs'].split(','):\n",
    "            idx = gameplay[(gameplay['date'] < row['date']) & \n",
    "                     (gameplay['date'] >= dfp['date'].iloc[index-1]) &\n",
    "                    (gameplay['name']==champ)].index.tolist()\n",
    "            changes.loc[idx] = 'nerf'\n",
    "\n",
    "changes.replace(np.nan, 'nochange', inplace=True)\n",
    "# changes.describe()\n",
    "# changes.head()\n",
    "\n",
    "df = pd.concat([gameplay, changes], axis=1)\n"
   ]
  },
  {
   "cell_type": "code",
   "execution_count": 3,
   "metadata": {
    "collapsed": false
   },
   "outputs": [],
   "source": [
    "df.to_csv('loldata_diamondonly.csv', index=False)"
   ]
  },
  {
   "cell_type": "code",
   "execution_count": null,
   "metadata": {
    "collapsed": true
   },
   "outputs": [],
   "source": []
  }
 ],
 "metadata": {
  "kernelspec": {
   "display_name": "Python 3",
   "language": "python",
   "name": "python3"
  },
  "language_info": {
   "codemirror_mode": {
    "name": "ipython",
    "version": 3
   },
   "file_extension": ".py",
   "mimetype": "text/x-python",
   "name": "python",
   "nbconvert_exporter": "python",
   "pygments_lexer": "ipython3",
   "version": "3.5.2"
  }
 },
 "nbformat": 4,
 "nbformat_minor": 2
}
