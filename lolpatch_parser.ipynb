{
 "cells": [
  {
   "cell_type": "code",
   "execution_count": null,
   "metadata": {
    "collapsed": true
   },
   "outputs": [],
   "source": [
    "#Date\n",
    "response.xpath('//span[@class=\"post-timestamp\"]/text()').extract()\n",
    "    \n",
    "#Buff/nerf/tweaks\n",
    "response.xpath('//div[@class=\"post-body entry-content\"]//b//text()').extract()\n",
    "\n",
    "#Changed Champs\n",
    "#response.xpath('//div[@class=\"post-body entry-content\"]/text()').extract()\n",
    "#response.xpath('//div[@class=\"post-body entry-content\"]/div[2]//text()').extract()\n",
    "response.xpath('//div[@class=\"post-body entry-content\"]//b//following-sibling::text()').extract()"
   ]
  },
  {
   "cell_type": "code",
   "execution_count": null,
   "metadata": {
    "collapsed": true
   },
   "outputs": [],
   "source": [
    "starturl = 'www.nerfplz.com/search/label/Patch Notes?max-results=50'\n",
    "#patch links\n",
    "response.xpath('//span[@class=\"rmlink\"]/a[contains(text(), \"Read More...\")]/@href').extract()\n",
    "\n",
    "#next page\n",
    "response.xpath('//span[@id=\"blog-pager-older-link\"]/a/@href').extract()"
   ]
  }
 ],
 "metadata": {
  "kernelspec": {
   "display_name": "Python 3",
   "language": "python",
   "name": "python3"
  },
  "language_info": {
   "codemirror_mode": {
    "name": "ipython",
    "version": 3
   },
   "file_extension": ".py",
   "mimetype": "text/x-python",
   "name": "python",
   "nbconvert_exporter": "python",
   "pygments_lexer": "ipython3",
   "version": "3.5.2"
  }
 },
 "nbformat": 4,
 "nbformat_minor": 2
}
