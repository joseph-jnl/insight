{
 "cells": [
  {
   "cell_type": "code",
   "execution_count": 115,
   "metadata": {
    "collapsed": false
   },
   "outputs": [
    {
     "name": "stdout",
     "output_type": "stream",
     "text": [
      "['4.14', '1407888840.0', 'buffs:gragas,kassadin,kogmaw,maokai,morgana,orianna,rengar,syndra,xerath', 'nerfs::zed']\n"
     ]
    }
   ],
   "source": [
    "import re\n",
    "import ast\n",
    "import pandas as pd\n",
    "import numpy as np\n",
    "import time\n",
    "from datetime import datetime\n",
    "\n",
    "df_patches = pd.DataFrame()\n",
    "\n",
    "patches = open('patchnotes.txt').read().split(\"|\")\n",
    "\n",
    "#for p in patches:\n",
    "p = patches[24]\n",
    "p = p.split(\"\\n\")\n",
    "while '' in p: p.remove('')\n",
    "\n",
    "if len(p) > 2:\n",
    "    print(p)\n"
   ]
  },
  {
   "cell_type": "code",
   "execution_count": null,
   "metadata": {
    "collapsed": true
   },
   "outputs": [],
   "source": [
    "# Patch\n",
    "response.xpath('//h1[@class=\"post-title entry-title\"]/text()').extract()\n",
    "\n",
    "# Date\n",
    "response.xpath('//span[@class=\"post-timestamp\"]/text()').extract()\n",
    "    \n",
    "# Buff/nerf/tweaks\n",
    "response.xpath('//div[@class=\"post-body entry-content\"]//b//text()').extract()\n",
    "\n",
    "# Changed Champs\n",
    "#response.xpath('//div[@class=\"post-body entry-content\"]/text()').extract()\n",
    "#response.xpath('//div[@class=\"post-body entry-content\"]/div[2]//text()').extract()\n",
    "response.xpath('//div[@class=\"post-body entry-content\"]//b//following-sibling::text()').extract()"
   ]
  },
  {
   "cell_type": "code",
   "execution_count": 73,
   "metadata": {
    "collapsed": false
   },
   "outputs": [
    {
     "name": "stdout",
     "output_type": "stream",
     "text": [
      "6.24\n",
      "1480845300.0\n",
      "['akali,azir,fiddlesticks,garen,katarina,kogmaw,nidalee,varus', 'ivern,leblanc,rengar,twitch,vayne', 'masteryi', ':rylaiscrystalscepter,liandrystorment', ':courageofthecolossus,fervorofbattle']\n",
      "['Buffs:', 'Nerfs:', 'Tweaks:', 'Item Changes', 'Mastery Changes']\n",
      "buffs\n"
     ]
    }
   ],
   "source": [
    "from datetime import datetime\n",
    "import time\n",
    "import re\n",
    "\n",
    "patch = ['\\nOfficial Patch 6.24 Notes Released!\\n']\n",
    "patch = re.findall(r\"[-+]?\\d*\\.\\d+|\\d+\", patch[0])\n",
    "print(patch[0])\n",
    "\n",
    "date = ['\\nDec 4, 2016\\n9:55 AM\\n']\n",
    "dt = datetime.strptime(date[0].replace('\\n', ' '), ' %b %d, %Y %I:%M %p ')\n",
    "release = time.mktime(dt.timetuple())\n",
    "print(release)\n",
    "datetime.fromtimestamp(release).ctime()\n",
    "\n",
    "champs = [\" Akali, Azir, Fiddlesticks, Garen, Katarina, Kog'Maw, Nidalee, Varus\",\n",
    " '\\n',\n",
    " ' Ivern, Leblanc, Rengar, Twitch, Vayne',\n",
    " '\\n',\n",
    " ' Master Yi',\n",
    " '\\n',\n",
    " \": Rylai's Crystal Scepter, Liandry's Torment\",\n",
    " '\\n',\n",
    " ': Courage of the Colossus, Fervor of Battle',\n",
    " '\\n',\n",
    " '\\n',\n",
    " '\\n',\n",
    " '\\n',\n",
    " '\\n',\n",
    " '\\n']\n",
    "\n",
    "while '\\n' in champs: champs.remove('\\n')\n",
    "\n",
    "champs = [x.replace(' ', '').replace(\"'\", '').replace(\"'\", '').lower() for x in champs]\n",
    "print(champs)\n",
    "\n",
    "\n",
    "changes = ['Buffs:', 'Nerfs:', 'Tweaks:', 'Item Changes', 'Mastery Changes']\n",
    "print(changes)\n",
    "\n",
    "if any(\"buffs\" in s.lower() for s in changes): print('buffs')"
   ]
  },
  {
   "cell_type": "code",
   "execution_count": null,
   "metadata": {
    "collapsed": true
   },
   "outputs": [],
   "source": [
    "starturl = 'www.nerfplz.com/search/label/Patch Notes?max-results=50'\n",
    "#patch links\n",
    "response.xpath('//span[@class=\"rmlink\"]/a[contains(text(), \"Read More...\")]/@href').extract()\n",
    "\n",
    "#next page\n",
    "response.xpath('//span[@id=\"blog-pager-older-link\"]/a/@href').extract()"
   ]
  }
 ],
 "metadata": {
  "kernelspec": {
   "display_name": "Python 3",
   "language": "python",
   "name": "python3"
  },
  "language_info": {
   "codemirror_mode": {
    "name": "ipython",
    "version": 3
   },
   "file_extension": ".py",
   "mimetype": "text/x-python",
   "name": "python",
   "nbconvert_exporter": "python",
   "pygments_lexer": "ipython3",
   "version": "3.5.2"
  }
 },
 "nbformat": 4,
 "nbformat_minor": 2
}
